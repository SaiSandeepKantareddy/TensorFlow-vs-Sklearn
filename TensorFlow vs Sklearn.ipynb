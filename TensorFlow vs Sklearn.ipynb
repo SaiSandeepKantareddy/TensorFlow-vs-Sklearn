{
 "cells": [
  {
   "cell_type": "code",
   "execution_count": 107,
   "metadata": {},
   "outputs": [],
   "source": [
    "import pandas as pd\n",
    "import numpy as np"
   ]
  },
  {
   "cell_type": "code",
   "execution_count": 108,
   "metadata": {},
   "outputs": [],
   "source": [
    "df=pd.read_csv(\"Iris.csv\")"
   ]
  },
  {
   "cell_type": "code",
   "execution_count": 109,
   "metadata": {},
   "outputs": [],
   "source": [
    "df.drop(['Id'],axis=1,inplace=True)"
   ]
  },
  {
   "cell_type": "code",
   "execution_count": 110,
   "metadata": {},
   "outputs": [],
   "source": [
    "X=df.iloc[0:,0:4]\n",
    "Y=df.iloc[0:,4:]"
   ]
  },
  {
   "cell_type": "code",
   "execution_count": 111,
   "metadata": {},
   "outputs": [],
   "source": [
    "from sklearn import linear_model\n",
    "from sklearn.model_selection import train_test_split\n",
    "from sklearn.metrics import accuracy_score"
   ]
  },
  {
   "cell_type": "code",
   "execution_count": 112,
   "metadata": {},
   "outputs": [],
   "source": [
    "Y.loc[Y[\"Species\"]==\"Iris-setosa\",\"Species\"]=0\n",
    "Y.loc[Y[\"Species\"]==\"Iris-versicolor\",\"Species\"]=1\n",
    "Y.loc[Y[\"Species\"]==\"Iris-virginica\",\"Species\"]=2"
   ]
  },
  {
   "cell_type": "code",
   "execution_count": 113,
   "metadata": {},
   "outputs": [],
   "source": [
    "x_train,x_test,y_train,y_test=train_test_split(X,Y,test_size=0.25,random_state=0)\n",
    "model=linear_model.LogisticRegression()"
   ]
  },
  {
   "cell_type": "code",
   "execution_count": 114,
   "metadata": {},
   "outputs": [
    {
     "name": "stderr",
     "output_type": "stream",
     "text": [
      "c:\\users\\sai.kantareddy\\appdata\\local\\programs\\python\\python36\\lib\\site-packages\\sklearn\\utils\\validation.py:578: DataConversionWarning: A column-vector y was passed when a 1d array was expected. Please change the shape of y to (n_samples, ), for example using ravel().\n",
      "  y = column_or_1d(y, warn=True)\n"
     ]
    },
    {
     "data": {
      "text/plain": [
       "0.868421052631579"
      ]
     },
     "execution_count": 114,
     "metadata": {},
     "output_type": "execute_result"
    }
   ],
   "source": [
    "model.fit(x_train,y_train)\n",
    "predictions=model.predict(x_test)\n",
    "accuracy_score(y_test,predictions)"
   ]
  },
  {
   "cell_type": "code",
   "execution_count": 115,
   "metadata": {},
   "outputs": [
    {
     "data": {
      "text/plain": [
       "array([2], dtype=int64)"
      ]
     },
     "execution_count": 115,
     "metadata": {},
     "output_type": "execute_result"
    }
   ],
   "source": [
    "myvals=np.array([1.3,2.4,5.6,4.6]).reshape(1,-1)\n",
    "predictions=model.predict(myvals)\n",
    "predictions"
   ]
  },
  {
   "cell_type": "code",
   "execution_count": 118,
   "metadata": {},
   "outputs": [
    {
     "name": "stdout",
     "output_type": "stream",
     "text": [
      "WARNING:tensorflow:float64 is not supported by many models, consider casting to float32.\n",
      "INFO:tensorflow:Using default config.\n",
      "WARNING:tensorflow:Using temporary folder as model directory: C:\\Users\\SAI~1.KAN\\AppData\\Local\\Temp\\tmp3j08w377\n",
      "INFO:tensorflow:Using config: {'_task_type': None, '_task_id': 0, '_cluster_spec': <tensorflow.python.training.server_lib.ClusterSpec object at 0x0000026D0960F0B8>, '_master': '', '_num_ps_replicas': 0, '_num_worker_replicas': 0, '_environment': 'local', '_is_chief': True, '_evaluation_master': '', '_tf_config': gpu_options {\n",
      "  per_process_gpu_memory_fraction: 1.0\n",
      "}\n",
      ", '_tf_random_seed': None, '_save_summary_steps': 100, '_save_checkpoints_secs': 600, '_log_step_count_steps': 100, '_session_config': None, '_save_checkpoints_steps': None, '_keep_checkpoint_max': 5, '_keep_checkpoint_every_n_hours': 10000, '_model_dir': 'C:\\\\Users\\\\SAI~1.KAN\\\\AppData\\\\Local\\\\Temp\\\\tmp3j08w377'}\n",
      "WARNING:tensorflow:float64 is not supported by many models, consider casting to float32.\n",
      "INFO:tensorflow:Create CheckpointSaverHook.\n",
      "INFO:tensorflow:Graph was finalized.\n",
      "INFO:tensorflow:Running local_init_op.\n",
      "INFO:tensorflow:Done running local_init_op.\n",
      "INFO:tensorflow:Saving checkpoints for 1 into C:\\Users\\SAI~1.KAN\\AppData\\Local\\Temp\\tmp3j08w377\\model.ckpt.\n",
      "INFO:tensorflow:loss = 1.1888435, step = 1\n",
      "INFO:tensorflow:global_step/sec: 908.71\n",
      "INFO:tensorflow:loss = 0.14089331, step = 101 (0.111 sec)\n",
      "INFO:tensorflow:global_step/sec: 1038.87\n",
      "INFO:tensorflow:loss = 0.057732638, step = 201 (0.095 sec)\n",
      "INFO:tensorflow:global_step/sec: 1216.25\n",
      "INFO:tensorflow:loss = 0.050072495, step = 301 (0.082 sec)\n",
      "INFO:tensorflow:global_step/sec: 1072.38\n",
      "INFO:tensorflow:loss = 0.043718617, step = 401 (0.094 sec)\n",
      "INFO:tensorflow:global_step/sec: 1159.7\n",
      "INFO:tensorflow:loss = 0.04004666, step = 501 (0.086 sec)\n",
      "INFO:tensorflow:global_step/sec: 1146.34\n",
      "INFO:tensorflow:loss = 0.037326034, step = 601 (0.087 sec)\n",
      "INFO:tensorflow:global_step/sec: 1201.6\n",
      "INFO:tensorflow:loss = 0.03503641, step = 701 (0.082 sec)\n",
      "INFO:tensorflow:global_step/sec: 1231.26\n",
      "INFO:tensorflow:loss = 0.03290326, step = 801 (0.081 sec)\n",
      "INFO:tensorflow:global_step/sec: 1060.98\n",
      "INFO:tensorflow:loss = 0.03159882, step = 901 (0.094 sec)\n",
      "INFO:tensorflow:global_step/sec: 1072.38\n",
      "INFO:tensorflow:loss = 0.029980961, step = 1001 (0.093 sec)\n",
      "INFO:tensorflow:global_step/sec: 1231.26\n",
      "INFO:tensorflow:loss = 0.02824369, step = 1101 (0.081 sec)\n",
      "INFO:tensorflow:global_step/sec: 1246.65\n",
      "INFO:tensorflow:loss = 0.027216634, step = 1201 (0.080 sec)\n",
      "INFO:tensorflow:global_step/sec: 1487.86\n",
      "INFO:tensorflow:loss = 0.025816232, step = 1301 (0.066 sec)\n",
      "INFO:tensorflow:global_step/sec: 1058.48\n",
      "INFO:tensorflow:loss = 0.024716321, step = 1401 (0.096 sec)\n",
      "INFO:tensorflow:global_step/sec: 1159.68\n",
      "INFO:tensorflow:loss = 0.02383371, step = 1501 (0.087 sec)\n",
      "INFO:tensorflow:global_step/sec: 1231.26\n",
      "INFO:tensorflow:loss = 0.022537438, step = 1601 (0.079 sec)\n",
      "INFO:tensorflow:global_step/sec: 1108.14\n",
      "INFO:tensorflow:loss = 0.02168328, step = 1701 (0.090 sec)\n",
      "INFO:tensorflow:global_step/sec: 1293.82\n",
      "INFO:tensorflow:loss = 0.02052931, step = 1801 (0.076 sec)\n",
      "INFO:tensorflow:global_step/sec: 1180.43\n",
      "INFO:tensorflow:loss = 0.019606035, step = 1901 (0.085 sec)\n",
      "INFO:tensorflow:global_step/sec: 1097.65\n",
      "INFO:tensorflow:loss = 0.018361261, step = 2001 (0.093 sec)\n",
      "INFO:tensorflow:global_step/sec: 1084.05\n",
      "INFO:tensorflow:loss = 0.017258791, step = 2101 (0.091 sec)\n",
      "INFO:tensorflow:global_step/sec: 1159.67\n",
      "INFO:tensorflow:loss = 0.016059613, step = 2201 (0.087 sec)\n",
      "INFO:tensorflow:global_step/sec: 1095.97\n",
      "INFO:tensorflow:loss = 0.014933073, step = 2301 (0.090 sec)\n",
      "INFO:tensorflow:global_step/sec: 1120.58\n",
      "INFO:tensorflow:loss = 0.013804483, step = 2401 (0.090 sec)\n",
      "INFO:tensorflow:global_step/sec: 1173.32\n",
      "INFO:tensorflow:loss = 0.0114677865, step = 2501 (0.085 sec)\n",
      "INFO:tensorflow:global_step/sec: 1120.55\n",
      "INFO:tensorflow:loss = 0.014885866, step = 2601 (0.088 sec)\n",
      "INFO:tensorflow:global_step/sec: 1216.3\n",
      "INFO:tensorflow:loss = 0.0085179275, step = 2701 (0.083 sec)\n",
      "INFO:tensorflow:global_step/sec: 1108.13\n",
      "INFO:tensorflow:loss = 0.007928178, step = 2801 (0.089 sec)\n",
      "INFO:tensorflow:global_step/sec: 1108.14\n",
      "INFO:tensorflow:loss = 0.0073902155, step = 2901 (0.090 sec)\n",
      "INFO:tensorflow:global_step/sec: 1095.95\n",
      "INFO:tensorflow:loss = 0.0068938253, step = 3001 (0.091 sec)\n",
      "INFO:tensorflow:global_step/sec: 1173.32\n",
      "INFO:tensorflow:loss = 0.006460489, step = 3101 (0.086 sec)\n",
      "INFO:tensorflow:global_step/sec: 1084.05\n",
      "INFO:tensorflow:loss = 0.04959831, step = 3201 (0.092 sec)\n",
      "INFO:tensorflow:global_step/sec: 1108.13\n",
      "INFO:tensorflow:loss = 0.005849994, step = 3301 (0.090 sec)\n",
      "INFO:tensorflow:global_step/sec: 882.571\n",
      "INFO:tensorflow:loss = 0.0054707867, step = 3401 (0.114 sec)\n",
      "INFO:tensorflow:global_step/sec: 1552.2\n",
      "INFO:tensorflow:loss = 0.005123266, step = 3501 (0.061 sec)\n",
      "INFO:tensorflow:global_step/sec: 1179.51\n",
      "INFO:tensorflow:loss = 0.0048022307, step = 3601 (0.088 sec)\n",
      "INFO:tensorflow:global_step/sec: 1233.46\n",
      "INFO:tensorflow:loss = 0.0045056823, step = 3701 (0.079 sec)\n",
      "INFO:tensorflow:global_step/sec: 1312.32\n",
      "INFO:tensorflow:loss = 0.004231497, step = 3801 (0.077 sec)\n",
      "INFO:tensorflow:global_step/sec: 1377.14\n",
      "INFO:tensorflow:loss = 0.003977964, step = 3901 (0.071 sec)\n",
      "INFO:tensorflow:global_step/sec: 1599.79\n",
      "INFO:tensorflow:loss = 0.0037434683, step = 4001 (0.063 sec)\n",
      "INFO:tensorflow:global_step/sec: 1279.85\n",
      "INFO:tensorflow:loss = 0.0035263926, step = 4101 (0.078 sec)\n",
      "INFO:tensorflow:global_step/sec: 1599.81\n",
      "INFO:tensorflow:loss = 0.0033254442, step = 4201 (0.063 sec)\n",
      "INFO:tensorflow:global_step/sec: 1279.83\n",
      "INFO:tensorflow:loss = 0.003139275, step = 4301 (0.078 sec)\n",
      "INFO:tensorflow:global_step/sec: 1279.84\n",
      "INFO:tensorflow:loss = 0.0029668096, step = 4401 (0.078 sec)\n",
      "INFO:tensorflow:global_step/sec: 1599.8\n",
      "INFO:tensorflow:loss = 0.002806988, step = 4501 (0.063 sec)\n",
      "INFO:tensorflow:global_step/sec: 1279.83\n",
      "INFO:tensorflow:loss = 0.0026586484, step = 4601 (0.078 sec)\n",
      "INFO:tensorflow:global_step/sec: 1519.72\n",
      "INFO:tensorflow:loss = 0.0025208644, step = 4701 (0.066 sec)\n",
      "INFO:tensorflow:global_step/sec: 1214.33\n",
      "INFO:tensorflow:loss = 0.0023928173, step = 4801 (0.085 sec)\n",
      "INFO:tensorflow:global_step/sec: 1448.88\n",
      "INFO:tensorflow:loss = 0.002273698, step = 4901 (0.066 sec)\n",
      "INFO:tensorflow:Saving checkpoints for 5000 into C:\\Users\\SAI~1.KAN\\AppData\\Local\\Temp\\tmp3j08w377\\model.ckpt.\n",
      "INFO:tensorflow:Loss for final step: 0.002163821.\n",
      "WARNING:tensorflow:float64 is not supported by many models, consider casting to float32.\n",
      "INFO:tensorflow:Graph was finalized.\n",
      "INFO:tensorflow:Restoring parameters from C:\\Users\\SAI~1.KAN\\AppData\\Local\\Temp\\tmp3j08w377\\model.ckpt-5000\n",
      "INFO:tensorflow:Running local_init_op.\n",
      "INFO:tensorflow:Done running local_init_op.\n",
      "TensorFlow Accuracy: 0.973684\n"
     ]
    }
   ],
   "source": [
    "import tensorflow as tf\n",
    "feats = tf.contrib.learn.infer_real_valued_columns_from_input(x_train)\n",
    "classifier_tf = tf.contrib.learn.DNNClassifier(feature_columns=feats, hidden_units=[50, 50, 50],n_classes=3)\n",
    "classifier_tf.fit(x_train, y_train, steps=5000)\n",
    "predictions = list(classifier_tf.predict(x_test, as_iterable=True))\n",
    "score = accuracy_score(y_test, predictions)\n",
    "print('TensorFlow Accuracy: {0:f}'.format(score))"
   ]
  },
  {
   "cell_type": "code",
   "execution_count": null,
   "metadata": {},
   "outputs": [],
   "source": []
  },
  {
   "cell_type": "code",
   "execution_count": null,
   "metadata": {},
   "outputs": [],
   "source": []
  },
  {
   "cell_type": "code",
   "execution_count": null,
   "metadata": {},
   "outputs": [],
   "source": [
    "\n"
   ]
  },
  {
   "cell_type": "code",
   "execution_count": null,
   "metadata": {},
   "outputs": [],
   "source": []
  }
 ],
 "metadata": {
  "kernelspec": {
   "display_name": "Python 3",
   "language": "python",
   "name": "python3"
  },
  "language_info": {
   "codemirror_mode": {
    "name": "ipython",
    "version": 3
   },
   "file_extension": ".py",
   "mimetype": "text/x-python",
   "name": "python",
   "nbconvert_exporter": "python",
   "pygments_lexer": "ipython3",
   "version": "3.6.3"
  }
 },
 "nbformat": 4,
 "nbformat_minor": 2
}
